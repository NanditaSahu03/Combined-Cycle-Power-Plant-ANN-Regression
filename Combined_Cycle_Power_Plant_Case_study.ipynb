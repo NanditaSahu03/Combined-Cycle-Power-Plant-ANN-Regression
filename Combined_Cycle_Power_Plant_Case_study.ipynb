{
  "nbformat": 4,
  "nbformat_minor": 0,
  "metadata": {
    "colab": {
      "name": "Combined Cycle Power Plant Case study.ipynb",
      "provenance": [],
      "toc_visible": true
    },
    "kernelspec": {
      "name": "python3",
      "display_name": "Python 3"
    },
    "language_info": {
      "name": "python"
    }
  },
  "cells": [
    {
      "cell_type": "markdown",
      "metadata": {
        "id": "Dd99ilRGhtli"
      },
      "source": [
        "# Combined Cycle Power Plant ANN Regression"
      ]
    },
    {
      "cell_type": "markdown",
      "metadata": {
        "id": "Sh8TENTni7eW"
      },
      "source": [
        "## Importing the libraries"
      ]
    },
    {
      "cell_type": "code",
      "metadata": {
        "id": "M08SVTUWjFHl"
      },
      "source": [
        "import pandas as pd\n",
        "import numpy as np\n",
        "import tensorflow as tf\n"
      ],
      "execution_count": 1,
      "outputs": []
    },
    {
      "cell_type": "markdown",
      "metadata": {
        "id": "1E1muZQKjMsI"
      },
      "source": [
        "# Part 1 - Data Preprocessing"
      ]
    },
    {
      "cell_type": "code",
      "metadata": {
        "colab": {
          "base_uri": "https://localhost:8080/"
        },
        "id": "jg2IebMUhzYh",
        "outputId": "3a65b3c6-3139-4194-82f6-a577bf17f48a"
      },
      "source": [
        "dataset = pd.read_excel('Folds5x2_pp.xlsx')\n",
        "print(dataset)"
      ],
      "execution_count": 3,
      "outputs": [
        {
          "output_type": "stream",
          "text": [
            "         AT      V       AP     RH      PE\n",
            "0     14.96  41.76  1024.07  73.17  463.26\n",
            "1     25.18  62.96  1020.04  59.08  444.37\n",
            "2      5.11  39.40  1012.16  92.14  488.56\n",
            "3     20.86  57.32  1010.24  76.64  446.48\n",
            "4     10.82  37.50  1009.23  96.62  473.90\n",
            "...     ...    ...      ...    ...     ...\n",
            "9563  16.65  49.69  1014.01  91.00  460.03\n",
            "9564  13.19  39.18  1023.67  66.78  469.62\n",
            "9565  31.32  74.33  1012.92  36.48  429.57\n",
            "9566  24.48  69.45  1013.86  62.39  435.74\n",
            "9567  21.60  62.52  1017.23  67.87  453.28\n",
            "\n",
            "[9568 rows x 5 columns]\n"
          ],
          "name": "stdout"
        }
      ]
    },
    {
      "cell_type": "code",
      "metadata": {
        "id": "RFMUBEF4j4dy"
      },
      "source": [
        "X = dataset.iloc[:,:-1].values\n",
        "Y = dataset.iloc[:,-1].values"
      ],
      "execution_count": 4,
      "outputs": []
    },
    {
      "cell_type": "code",
      "metadata": {
        "colab": {
          "base_uri": "https://localhost:8080/"
        },
        "id": "gUXDj3FGj_7u",
        "outputId": "574b3567-236c-4d92-aeb7-d0faaefa0a25"
      },
      "source": [
        "print(X)"
      ],
      "execution_count": 5,
      "outputs": [
        {
          "output_type": "stream",
          "text": [
            "[[  14.96   41.76 1024.07   73.17]\n",
            " [  25.18   62.96 1020.04   59.08]\n",
            " [   5.11   39.4  1012.16   92.14]\n",
            " ...\n",
            " [  31.32   74.33 1012.92   36.48]\n",
            " [  24.48   69.45 1013.86   62.39]\n",
            " [  21.6    62.52 1017.23   67.87]]\n"
          ],
          "name": "stdout"
        }
      ]
    },
    {
      "cell_type": "code",
      "metadata": {
        "colab": {
          "base_uri": "https://localhost:8080/"
        },
        "id": "gaNX_Js7kA44",
        "outputId": "0b6994d1-ace5-442a-9abe-e2a417b4531f"
      },
      "source": [
        "print(Y)"
      ],
      "execution_count": 6,
      "outputs": [
        {
          "output_type": "stream",
          "text": [
            "[463.26 444.37 488.56 ... 429.57 435.74 453.28]\n"
          ],
          "name": "stdout"
        }
      ]
    },
    {
      "cell_type": "markdown",
      "metadata": {
        "id": "Re38_luQoq50"
      },
      "source": [
        "## Splitting the dataset into the Training set and Test set"
      ]
    },
    {
      "cell_type": "code",
      "metadata": {
        "id": "2Q58MRuiosmj"
      },
      "source": [
        "from sklearn.model_selection import train_test_split\n",
        "X_train, X_test, y_train, y_test = train_test_split(X, Y, test_size = 0.2, random_state = 0)"
      ],
      "execution_count": 8,
      "outputs": []
    },
    {
      "cell_type": "markdown",
      "metadata": {
        "id": "dlqcpPRpo1h0"
      },
      "source": [
        "# Part 2 - Building the ANN"
      ]
    },
    {
      "cell_type": "markdown",
      "metadata": {
        "id": "mE9CyOwXo48m"
      },
      "source": [
        "## Initializing the ANN"
      ]
    },
    {
      "cell_type": "code",
      "metadata": {
        "id": "_P46fHRpo7iw"
      },
      "source": [
        "ann = tf.keras.models.Sequential()"
      ],
      "execution_count": 9,
      "outputs": []
    },
    {
      "cell_type": "markdown",
      "metadata": {
        "id": "u6NXsxgqpFng"
      },
      "source": [
        "## Adding the input layer and the first hidden layer"
      ]
    },
    {
      "cell_type": "code",
      "metadata": {
        "id": "3yTZ3ghRpV7A"
      },
      "source": [
        "ann.add(tf.keras.layers.Dense(units=6, activation='relu'))"
      ],
      "execution_count": 10,
      "outputs": []
    },
    {
      "cell_type": "markdown",
      "metadata": {
        "id": "ptphrQV2pkiR"
      },
      "source": [
        "## Adding the second hidden layer"
      ]
    },
    {
      "cell_type": "code",
      "metadata": {
        "id": "yxaf8gFvppNa"
      },
      "source": [
        "ann.add(tf.keras.layers.Dense(units=6, activation='relu'))"
      ],
      "execution_count": 11,
      "outputs": []
    },
    {
      "cell_type": "markdown",
      "metadata": {
        "id": "ixtPv7K7ptBV"
      },
      "source": [
        "## Adding the output layer"
      ]
    },
    {
      "cell_type": "code",
      "metadata": {
        "id": "gtqyhW6Rpxs_"
      },
      "source": [
        "ann.add(tf.keras.layers.Dense(units=1))"
      ],
      "execution_count": 12,
      "outputs": []
    },
    {
      "cell_type": "markdown",
      "metadata": {
        "id": "acbBMPb-p42q"
      },
      "source": [
        "# Part 3 - Training the ANN"
      ]
    },
    {
      "cell_type": "markdown",
      "metadata": {
        "id": "uSIWd-vWqfig"
      },
      "source": [
        "## Compiling the ANN"
      ]
    },
    {
      "cell_type": "code",
      "metadata": {
        "id": "cuHRSegvqqv5"
      },
      "source": [
        "ann.compile(optimizer='adam', loss='mean_squared_error')"
      ],
      "execution_count": 13,
      "outputs": []
    },
    {
      "cell_type": "markdown",
      "metadata": {
        "id": "q8IA-sA0swjE"
      },
      "source": [
        "# Training the ANN model on the Training set"
      ]
    },
    {
      "cell_type": "code",
      "metadata": {
        "colab": {
          "base_uri": "https://localhost:8080/"
        },
        "id": "KrnO7pvusyRV",
        "outputId": "f799ee03-7944-49b8-8fc3-2912574cac9f"
      },
      "source": [
        "ann.fit(X_train, y_train, batch_size=32, epochs=100)"
      ],
      "execution_count": 15,
      "outputs": [
        {
          "output_type": "stream",
          "text": [
            "Epoch 1/100\n",
            "240/240 [==============================] - 1s 1ms/step - loss: 492.4434\n",
            "Epoch 2/100\n",
            "240/240 [==============================] - 0s 1ms/step - loss: 348.3304\n",
            "Epoch 3/100\n",
            "240/240 [==============================] - 0s 1ms/step - loss: 285.4638\n",
            "Epoch 4/100\n",
            "240/240 [==============================] - 0s 1ms/step - loss: 223.6802\n",
            "Epoch 5/100\n",
            "240/240 [==============================] - 0s 985us/step - loss: 172.0916\n",
            "Epoch 6/100\n",
            "240/240 [==============================] - 0s 961us/step - loss: 131.3358\n",
            "Epoch 7/100\n",
            "240/240 [==============================] - 0s 1ms/step - loss: 99.9280\n",
            "Epoch 8/100\n",
            "240/240 [==============================] - 0s 986us/step - loss: 77.4284\n",
            "Epoch 9/100\n",
            "240/240 [==============================] - 0s 977us/step - loss: 61.6685\n",
            "Epoch 10/100\n",
            "240/240 [==============================] - 0s 1ms/step - loss: 50.3223\n",
            "Epoch 11/100\n",
            "240/240 [==============================] - 0s 1ms/step - loss: 44.3269\n",
            "Epoch 12/100\n",
            "240/240 [==============================] - 0s 953us/step - loss: 38.5374\n",
            "Epoch 13/100\n",
            "240/240 [==============================] - 0s 1ms/step - loss: 35.1103\n",
            "Epoch 14/100\n",
            "240/240 [==============================] - 0s 1ms/step - loss: 32.6007\n",
            "Epoch 15/100\n",
            "240/240 [==============================] - 0s 1ms/step - loss: 31.3833\n",
            "Epoch 16/100\n",
            "240/240 [==============================] - 0s 971us/step - loss: 30.0111\n",
            "Epoch 17/100\n",
            "240/240 [==============================] - 0s 977us/step - loss: 29.1918\n",
            "Epoch 18/100\n",
            "240/240 [==============================] - 0s 1ms/step - loss: 28.6181\n",
            "Epoch 19/100\n",
            "240/240 [==============================] - 0s 1ms/step - loss: 28.1424\n",
            "Epoch 20/100\n",
            "240/240 [==============================] - 0s 973us/step - loss: 27.4262\n",
            "Epoch 21/100\n",
            "240/240 [==============================] - 0s 960us/step - loss: 27.0973\n",
            "Epoch 22/100\n",
            "240/240 [==============================] - 0s 973us/step - loss: 27.1169\n",
            "Epoch 23/100\n",
            "240/240 [==============================] - 0s 977us/step - loss: 26.6564\n",
            "Epoch 24/100\n",
            "240/240 [==============================] - 0s 1ms/step - loss: 27.3528\n",
            "Epoch 25/100\n",
            "240/240 [==============================] - 0s 979us/step - loss: 26.2837\n",
            "Epoch 26/100\n",
            "240/240 [==============================] - 0s 949us/step - loss: 26.1701\n",
            "Epoch 27/100\n",
            "240/240 [==============================] - 0s 1ms/step - loss: 26.3448\n",
            "Epoch 28/100\n",
            "240/240 [==============================] - 0s 969us/step - loss: 26.4131\n",
            "Epoch 29/100\n",
            "240/240 [==============================] - 0s 1ms/step - loss: 25.7311\n",
            "Epoch 30/100\n",
            "240/240 [==============================] - 0s 995us/step - loss: 25.9037\n",
            "Epoch 31/100\n",
            "240/240 [==============================] - 0s 982us/step - loss: 25.6363\n",
            "Epoch 32/100\n",
            "240/240 [==============================] - 0s 1ms/step - loss: 26.5502\n",
            "Epoch 33/100\n",
            "240/240 [==============================] - 0s 968us/step - loss: 25.6081\n",
            "Epoch 34/100\n",
            "240/240 [==============================] - 0s 997us/step - loss: 25.4881\n",
            "Epoch 35/100\n",
            "240/240 [==============================] - 0s 1ms/step - loss: 25.2007\n",
            "Epoch 36/100\n",
            "240/240 [==============================] - 0s 994us/step - loss: 25.6238\n",
            "Epoch 37/100\n",
            "240/240 [==============================] - 0s 994us/step - loss: 25.6984\n",
            "Epoch 38/100\n",
            "240/240 [==============================] - 0s 960us/step - loss: 25.5586\n",
            "Epoch 39/100\n",
            "240/240 [==============================] - 0s 1ms/step - loss: 25.3235\n",
            "Epoch 40/100\n",
            "240/240 [==============================] - 0s 995us/step - loss: 25.6274\n",
            "Epoch 41/100\n",
            "240/240 [==============================] - 0s 950us/step - loss: 25.4015\n",
            "Epoch 42/100\n",
            "240/240 [==============================] - 0s 964us/step - loss: 25.1505\n",
            "Epoch 43/100\n",
            "240/240 [==============================] - 0s 995us/step - loss: 25.4139\n",
            "Epoch 44/100\n",
            "240/240 [==============================] - 0s 1ms/step - loss: 24.5649\n",
            "Epoch 45/100\n",
            "240/240 [==============================] - 0s 958us/step - loss: 25.0409\n",
            "Epoch 46/100\n",
            "240/240 [==============================] - 0s 1ms/step - loss: 25.1236\n",
            "Epoch 47/100\n",
            "240/240 [==============================] - 0s 985us/step - loss: 25.1385\n",
            "Epoch 48/100\n",
            "240/240 [==============================] - 0s 1ms/step - loss: 24.6217\n",
            "Epoch 49/100\n",
            "240/240 [==============================] - 0s 995us/step - loss: 24.7331\n",
            "Epoch 50/100\n",
            "240/240 [==============================] - 0s 962us/step - loss: 24.3362\n",
            "Epoch 51/100\n",
            "240/240 [==============================] - 0s 1ms/step - loss: 25.0068\n",
            "Epoch 52/100\n",
            "240/240 [==============================] - 0s 967us/step - loss: 25.3164\n",
            "Epoch 53/100\n",
            "240/240 [==============================] - 0s 1ms/step - loss: 24.7659\n",
            "Epoch 54/100\n",
            "240/240 [==============================] - 0s 1ms/step - loss: 24.7434\n",
            "Epoch 55/100\n",
            "240/240 [==============================] - 0s 970us/step - loss: 24.6608\n",
            "Epoch 56/100\n",
            "240/240 [==============================] - 0s 1ms/step - loss: 24.5167\n",
            "Epoch 57/100\n",
            "240/240 [==============================] - 0s 1ms/step - loss: 25.3002\n",
            "Epoch 58/100\n",
            "240/240 [==============================] - 0s 976us/step - loss: 25.1357\n",
            "Epoch 59/100\n",
            "240/240 [==============================] - 0s 980us/step - loss: 24.2969\n",
            "Epoch 60/100\n",
            "240/240 [==============================] - 0s 962us/step - loss: 25.1918\n",
            "Epoch 61/100\n",
            "240/240 [==============================] - 0s 1ms/step - loss: 24.5027\n",
            "Epoch 62/100\n",
            "240/240 [==============================] - 0s 1ms/step - loss: 24.3457\n",
            "Epoch 63/100\n",
            "240/240 [==============================] - 0s 1ms/step - loss: 25.0405\n",
            "Epoch 64/100\n",
            "240/240 [==============================] - 0s 1ms/step - loss: 24.5737\n",
            "Epoch 65/100\n",
            "240/240 [==============================] - 0s 1ms/step - loss: 24.9569\n",
            "Epoch 66/100\n",
            "240/240 [==============================] - 0s 1ms/step - loss: 24.9779\n",
            "Epoch 67/100\n",
            "240/240 [==============================] - 0s 1ms/step - loss: 24.9368\n",
            "Epoch 68/100\n",
            "240/240 [==============================] - 0s 962us/step - loss: 24.5386\n",
            "Epoch 69/100\n",
            "240/240 [==============================] - 0s 998us/step - loss: 24.9455\n",
            "Epoch 70/100\n",
            "240/240 [==============================] - 0s 982us/step - loss: 25.4260\n",
            "Epoch 71/100\n",
            "240/240 [==============================] - 0s 987us/step - loss: 24.8638\n",
            "Epoch 72/100\n",
            "240/240 [==============================] - 0s 988us/step - loss: 24.1795\n",
            "Epoch 73/100\n",
            "240/240 [==============================] - 0s 1ms/step - loss: 24.3001\n",
            "Epoch 74/100\n",
            "240/240 [==============================] - 0s 986us/step - loss: 24.6856\n",
            "Epoch 75/100\n",
            "240/240 [==============================] - 0s 1ms/step - loss: 24.8234\n",
            "Epoch 76/100\n",
            "240/240 [==============================] - 0s 1ms/step - loss: 24.7646\n",
            "Epoch 77/100\n",
            "240/240 [==============================] - 0s 1ms/step - loss: 24.7209\n",
            "Epoch 78/100\n",
            "240/240 [==============================] - 0s 956us/step - loss: 24.2448\n",
            "Epoch 79/100\n",
            "240/240 [==============================] - 0s 972us/step - loss: 24.6073\n",
            "Epoch 80/100\n",
            "240/240 [==============================] - 0s 994us/step - loss: 24.7472\n",
            "Epoch 81/100\n",
            "240/240 [==============================] - 0s 988us/step - loss: 24.5238\n",
            "Epoch 82/100\n",
            "240/240 [==============================] - 0s 982us/step - loss: 24.9757\n",
            "Epoch 83/100\n",
            "240/240 [==============================] - 0s 1ms/step - loss: 24.1444\n",
            "Epoch 84/100\n",
            "240/240 [==============================] - 0s 993us/step - loss: 24.8648\n",
            "Epoch 85/100\n",
            "240/240 [==============================] - 0s 1ms/step - loss: 24.7759\n",
            "Epoch 86/100\n",
            "240/240 [==============================] - 0s 1ms/step - loss: 24.3321\n",
            "Epoch 87/100\n",
            "240/240 [==============================] - 0s 989us/step - loss: 25.3064\n",
            "Epoch 88/100\n",
            "240/240 [==============================] - 0s 963us/step - loss: 24.3687\n",
            "Epoch 89/100\n",
            "240/240 [==============================] - 0s 989us/step - loss: 24.5108\n",
            "Epoch 90/100\n",
            "240/240 [==============================] - 0s 1ms/step - loss: 24.1184\n",
            "Epoch 91/100\n",
            "240/240 [==============================] - 0s 987us/step - loss: 24.0501\n",
            "Epoch 92/100\n",
            "240/240 [==============================] - 0s 993us/step - loss: 24.4398\n",
            "Epoch 93/100\n",
            "240/240 [==============================] - 0s 959us/step - loss: 25.1127\n",
            "Epoch 94/100\n",
            "240/240 [==============================] - 0s 1ms/step - loss: 24.5531\n",
            "Epoch 95/100\n",
            "240/240 [==============================] - 0s 1ms/step - loss: 24.5065\n",
            "Epoch 96/100\n",
            "240/240 [==============================] - 0s 997us/step - loss: 24.1223\n",
            "Epoch 97/100\n",
            "240/240 [==============================] - 0s 977us/step - loss: 24.9528\n",
            "Epoch 98/100\n",
            "240/240 [==============================] - 0s 1ms/step - loss: 24.3773\n",
            "Epoch 99/100\n",
            "240/240 [==============================] - 0s 992us/step - loss: 25.2690\n",
            "Epoch 100/100\n",
            "240/240 [==============================] - 0s 1ms/step - loss: 24.6343\n"
          ],
          "name": "stdout"
        },
        {
          "output_type": "execute_result",
          "data": {
            "text/plain": [
              "<keras.callbacks.History at 0x7f6c9f278810>"
            ]
          },
          "metadata": {},
          "execution_count": 15
        }
      ]
    },
    {
      "cell_type": "markdown",
      "metadata": {
        "id": "FpGgbEhhtWY2"
      },
      "source": [
        "# Predicting the results of the Test set"
      ]
    },
    {
      "cell_type": "code",
      "metadata": {
        "colab": {
          "base_uri": "https://localhost:8080/"
        },
        "id": "1smurTKltX6l",
        "outputId": "e4c6b410-a390-4cce-d631-d1b738fca849"
      },
      "source": [
        "y_pred = ann.predict(X_test)\n",
        "print(y_pred)"
      ],
      "execution_count": 16,
      "outputs": [
        {
          "output_type": "stream",
          "text": [
            "[[431.8202 ]\n",
            " [460.8834 ]\n",
            " [467.0664 ]\n",
            " ...\n",
            " [473.23358]\n",
            " [438.6996 ]\n",
            " [458.041  ]]\n"
          ],
          "name": "stdout"
        }
      ]
    },
    {
      "cell_type": "code",
      "metadata": {
        "colab": {
          "base_uri": "https://localhost:8080/"
        },
        "id": "SEe84_Ttttcn",
        "outputId": "94a57ab5-8b23-4e2f-8efe-07ca67b9feb3"
      },
      "source": [
        "np.set_printoptions(precision=2)\n",
        "print(np.concatenate((y_pred.reshape(len(y_pred),1), y_test.reshape(len(y_test),1)),1))"
      ],
      "execution_count": 17,
      "outputs": [
        {
          "output_type": "stream",
          "text": [
            "[[431.82 431.23]\n",
            " [460.88 460.01]\n",
            " [467.07 461.14]\n",
            " ...\n",
            " [473.23 473.26]\n",
            " [438.7  438.  ]\n",
            " [458.04 463.28]]\n"
          ],
          "name": "stdout"
        }
      ]
    },
    {
      "cell_type": "markdown",
      "metadata": {
        "id": "8YjafC1it7JD"
      },
      "source": [
        "# Prediction using R2 Score"
      ]
    },
    {
      "cell_type": "code",
      "metadata": {
        "colab": {
          "base_uri": "https://localhost:8080/"
        },
        "id": "LKtYAcg1t_hz",
        "outputId": "b5269aa4-995c-4c79-936c-591bae72c03a"
      },
      "source": [
        "from sklearn.metrics import r2_score\n",
        "r2_score(y_test,y_pred)"
      ],
      "execution_count": 18,
      "outputs": [
        {
          "output_type": "execute_result",
          "data": {
            "text/plain": [
              "0.9206465846927749"
            ]
          },
          "metadata": {},
          "execution_count": 18
        }
      ]
    }
  ]
}